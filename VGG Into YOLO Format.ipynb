{
 "cells": [
  {
   "cell_type": "code",
   "execution_count": 1,
   "id": "4044ed75",
   "metadata": {},
   "outputs": [],
   "source": [
    "import os\n",
    "import cv2\n",
    "import pandas as pd\n",
    "import labelImg\n",
    "import json"
   ]
  },
  {
   "cell_type": "code",
   "execution_count": 2,
   "id": "16f23890",
   "metadata": {},
   "outputs": [
    {
     "name": "stdout",
     "output_type": "stream",
     "text": [
      "dict_keys(['_via_settings', '_via_img_metadata', '_via_attributes'])\n"
     ]
    }
   ],
   "source": [
    "with open('cat_dog/cat_dog_annotations.json') as f:\n",
    "    data = json.load(f)\n",
    "    \n",
    "print(data.keys())"
   ]
  },
  {
   "cell_type": "code",
   "execution_count": 3,
   "id": "21bfc48e",
   "metadata": {},
   "outputs": [
    {
     "data": {
      "text/plain": [
       "dict_keys(['region', 'file'])"
      ]
     },
     "execution_count": 3,
     "metadata": {},
     "output_type": "execute_result"
    }
   ],
   "source": [
    "with open('cat_dog/cat_dog_annotations.json') as f:\n",
    "    data = json.load(f)\n",
    "    \n",
    "_via_attributes = data['_via_attributes']\n",
    "_via_attributes\n",
    "_via_attributes.keys()"
   ]
  },
  {
   "cell_type": "code",
   "execution_count": 4,
   "id": "3be3621c",
   "metadata": {},
   "outputs": [
    {
     "data": {
      "text/html": [
       "<div>\n",
       "<style scoped>\n",
       "    .dataframe tbody tr th:only-of-type {\n",
       "        vertical-align: middle;\n",
       "    }\n",
       "\n",
       "    .dataframe tbody tr th {\n",
       "        vertical-align: top;\n",
       "    }\n",
       "\n",
       "    .dataframe thead th {\n",
       "        text-align: right;\n",
       "    }\n",
       "</style>\n",
       "<table border=\"1\" class=\"dataframe\">\n",
       "  <thead>\n",
       "    <tr style=\"text-align: right;\">\n",
       "      <th></th>\n",
       "      <th>_via_settings</th>\n",
       "      <th>_via_img_metadata</th>\n",
       "      <th>_via_attributes</th>\n",
       "    </tr>\n",
       "  </thead>\n",
       "  <tbody>\n",
       "    <tr>\n",
       "      <th>ui</th>\n",
       "      <td>{'annotation_editor_height': 25, 'annotation_e...</td>\n",
       "      <td>NaN</td>\n",
       "      <td>NaN</td>\n",
       "    </tr>\n",
       "    <tr>\n",
       "      <th>core</th>\n",
       "      <td>{'buffer_size': 18, 'filepath': {}, 'default_f...</td>\n",
       "      <td>NaN</td>\n",
       "      <td>NaN</td>\n",
       "    </tr>\n",
       "    <tr>\n",
       "      <th>project</th>\n",
       "      <td>{'name': 'via_project_18Oct2022_11h49m'}</td>\n",
       "      <td>NaN</td>\n",
       "      <td>NaN</td>\n",
       "    </tr>\n",
       "    <tr>\n",
       "      <th>1.jpeg45602</th>\n",
       "      <td>NaN</td>\n",
       "      <td>{'filename': '1.jpeg', 'size': 45602, 'regions...</td>\n",
       "      <td>NaN</td>\n",
       "    </tr>\n",
       "    <tr>\n",
       "      <th>2.jpeg4669</th>\n",
       "      <td>NaN</td>\n",
       "      <td>{'filename': '2.jpeg', 'size': 4669, 'regions'...</td>\n",
       "      <td>NaN</td>\n",
       "    </tr>\n",
       "  </tbody>\n",
       "</table>\n",
       "</div>"
      ],
      "text/plain": [
       "                                                 _via_settings  \\\n",
       "ui           {'annotation_editor_height': 25, 'annotation_e...   \n",
       "core         {'buffer_size': 18, 'filepath': {}, 'default_f...   \n",
       "project               {'name': 'via_project_18Oct2022_11h49m'}   \n",
       "1.jpeg45602                                                NaN   \n",
       "2.jpeg4669                                                 NaN   \n",
       "\n",
       "                                             _via_img_metadata _via_attributes  \n",
       "ui                                                         NaN             NaN  \n",
       "core                                                       NaN             NaN  \n",
       "project                                                    NaN             NaN  \n",
       "1.jpeg45602  {'filename': '1.jpeg', 'size': 45602, 'regions...             NaN  \n",
       "2.jpeg4669   {'filename': '2.jpeg', 'size': 4669, 'regions'...             NaN  "
      ]
     },
     "execution_count": 4,
     "metadata": {},
     "output_type": "execute_result"
    }
   ],
   "source": [
    "annotations = pd.DataFrame.from_dict(data)\n",
    "annotations.head()"
   ]
  },
  {
   "cell_type": "code",
   "execution_count": 5,
   "id": "a2b26c38",
   "metadata": {},
   "outputs": [
    {
     "name": "stderr",
     "output_type": "stream",
     "text": [
      "[ WARN:0@0.995] global loadsave.cpp:244 findDecoder imread_('1.jpeg'): can't open/read file: check file path/integrity\n"
     ]
    },
    {
     "ename": "AttributeError",
     "evalue": "'NoneType' object has no attribute 'shape'",
     "output_type": "error",
     "traceback": [
      "\u001b[0;31m---------------------------------------------------------------------------\u001b[0m",
      "\u001b[0;31mAttributeError\u001b[0m                            Traceback (most recent call last)",
      "\u001b[0;32m/var/folders/wn/9ykg13654sv1ssr2y48g95pc0000gn/T/ipykernel_1808/2124107668.py\u001b[0m in \u001b[0;36m<module>\u001b[0;34m\u001b[0m\n\u001b[1;32m     10\u001b[0m     \u001b[0mimg_filename\u001b[0m \u001b[0;34m=\u001b[0m \u001b[0mimg_values\u001b[0m\u001b[0;34m[\u001b[0m\u001b[0;34m'filename'\u001b[0m\u001b[0;34m]\u001b[0m\u001b[0;34m\u001b[0m\u001b[0;34m\u001b[0m\u001b[0m\n\u001b[1;32m     11\u001b[0m     \u001b[0mimage\u001b[0m \u001b[0;34m=\u001b[0m \u001b[0mcv2\u001b[0m\u001b[0;34m.\u001b[0m\u001b[0mimread\u001b[0m\u001b[0;34m(\u001b[0m\u001b[0mimg_filename\u001b[0m\u001b[0;34m)\u001b[0m\u001b[0;34m\u001b[0m\u001b[0;34m\u001b[0m\u001b[0m\n\u001b[0;32m---> 12\u001b[0;31m     \u001b[0mimg_height\u001b[0m\u001b[0;34m,\u001b[0m \u001b[0mimg_width\u001b[0m \u001b[0;34m=\u001b[0m \u001b[0mimage\u001b[0m\u001b[0;34m.\u001b[0m\u001b[0mshape\u001b[0m\u001b[0;34m[\u001b[0m\u001b[0;34m:\u001b[0m\u001b[0;36m2\u001b[0m\u001b[0;34m]\u001b[0m\u001b[0;34m\u001b[0m\u001b[0;34m\u001b[0m\u001b[0m\n\u001b[0m\u001b[1;32m     13\u001b[0m \u001b[0;34m\u001b[0m\u001b[0m\n\u001b[1;32m     14\u001b[0m     \u001b[0;32mwith\u001b[0m \u001b[0mopen\u001b[0m\u001b[0;34m(\u001b[0m\u001b[0mos\u001b[0m\u001b[0;34m.\u001b[0m\u001b[0mpath\u001b[0m\u001b[0;34m.\u001b[0m\u001b[0mjoin\u001b[0m\u001b[0;34m(\u001b[0m\u001b[0;34m'Yolo_Format'\u001b[0m\u001b[0;34m,\u001b[0m \u001b[0mos\u001b[0m\u001b[0;34m.\u001b[0m\u001b[0mpath\u001b[0m\u001b[0;34m.\u001b[0m\u001b[0msplitext\u001b[0m\u001b[0;34m(\u001b[0m\u001b[0mimg_filename\u001b[0m\u001b[0;34m)\u001b[0m\u001b[0;34m[\u001b[0m\u001b[0;36m0\u001b[0m\u001b[0;34m]\u001b[0m \u001b[0;34m+\u001b[0m \u001b[0;34m'.txt'\u001b[0m\u001b[0;34m)\u001b[0m\u001b[0;34m,\u001b[0m \u001b[0;34m'w'\u001b[0m\u001b[0;34m)\u001b[0m \u001b[0;32mas\u001b[0m \u001b[0mf\u001b[0m\u001b[0;34m:\u001b[0m\u001b[0;34m\u001b[0m\u001b[0;34m\u001b[0m\u001b[0m\n",
      "\u001b[0;31mAttributeError\u001b[0m: 'NoneType' object has no attribute 'shape'"
     ]
    }
   ],
   "source": [
    "class_names = ['cat', 'dog']\n",
    "\n",
    "\n",
    "if not os.path.exists('Yolo_Format'):\n",
    "    os.makedirs('Yolo_Format')\n",
    "\n",
    "\n",
    "for img_key, img_values in data['_via_img_metadata'].items():\n",
    "\n",
    "    img_filename = img_values['filename']\n",
    "    image = cv2.imread(img_filename) \n",
    "    img_height, img_width = image.shape[:2]\n",
    "    \n",
    "    with open(os.path.join('Yolo_Format', os.path.splitext(img_filename)[0] + '.txt'), 'w') as f:\n",
    "        for obj in img_values['regions']:\n",
    "            class_label = list(obj['region_attributes']['class'])[0]\n",
    "            bbox = obj['shape_attributes']\n",
    "            x_center = (bbox['x'] + bbox['width'] / 2) / img_width\n",
    "            y_center = (bbox['y'] + bbox['height'] / 2) / img_height\n",
    "            width = bbox['width'] / img_width\n",
    "            height = bbox['height'] / img_height\n",
    "            class_index = class_names.index(class_label)\n",
    "            f.write(f\"{class_index} {x_center} {y_center} {width} {height}\\n\")"
   ]
  },
  {
   "cell_type": "code",
   "execution_count": 6,
   "id": "6ddb634d",
   "metadata": {},
   "outputs": [],
   "source": [
    "with open('cat_dog_yolo.txt', 'w') as f:\n",
    "    f.write('\\n'.join(data))"
   ]
  },
  {
   "cell_type": "code",
   "execution_count": null,
   "id": "bc59f7ed",
   "metadata": {},
   "outputs": [],
   "source": []
  }
 ],
 "metadata": {
  "kernelspec": {
   "display_name": "Python 3 (ipykernel)",
   "language": "python",
   "name": "python3"
  },
  "language_info": {
   "codemirror_mode": {
    "name": "ipython",
    "version": 3
   },
   "file_extension": ".py",
   "mimetype": "text/x-python",
   "name": "python",
   "nbconvert_exporter": "python",
   "pygments_lexer": "ipython3",
   "version": "3.9.13"
  }
 },
 "nbformat": 4,
 "nbformat_minor": 5
}
